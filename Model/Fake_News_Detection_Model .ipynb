{
 "cells": [
  {
   "cell_type": "code",
   "execution_count": 4,
   "metadata": {},
   "outputs": [],
   "source": [
    "import numpy as np\n",
    "import pandas as pd\n",
    "import zipfile\n",
    "import itertools\n",
    "import re\n",
    "\n",
    "import nltk\n",
    "from nltk.sentiment.vader import SentimentIntensityAnalyzer\n",
    "from nltk.tokenize import word_tokenize\n",
    "from nltk.corpus import stopwords\n",
    "from nltk.stem import WordNetLemmatizer\n",
    "\n",
    "from sklearn.feature_extraction.text import CountVectorizer, TfidfTransformer, TfidfVectorizer\n",
    "\n",
    "from sklearn.model_selection import train_test_split\n",
    "\n",
    "from sklearn.svm import LinearSVC\n",
    "from sklearn.linear_model import LogisticRegression, PassiveAggressiveClassifier\n",
    "\n",
    "from sklearn import metrics\n",
    "from sklearn.metrics import precision_recall_curve\n",
    "from sklearn.metrics import plot_precision_recall_curve\n",
    "from sklearn.metrics import confusion_matrix\n",
    "from sklearn.metrics import plot_confusion_matrix\n",
    "from sklearn.metrics import precision_score\n",
    "from sklearn.metrics import recall_score\n",
    "from sklearn.metrics import f1_score\n",
    "\n",
    "import joblib\n",
    "from sklearn.pipeline import Pipeline\n",
    "\n",
    "import matplotlib.pyplot as plt"
   ]
  },
  {
   "cell_type": "code",
   "execution_count": 5,
   "metadata": {},
   "outputs": [
    {
     "data": {
      "text/html": [
       "<div>\n",
       "<style scoped>\n",
       "    .dataframe tbody tr th:only-of-type {\n",
       "        vertical-align: middle;\n",
       "    }\n",
       "\n",
       "    .dataframe tbody tr th {\n",
       "        vertical-align: top;\n",
       "    }\n",
       "\n",
       "    .dataframe thead th {\n",
       "        text-align: right;\n",
       "    }\n",
       "</style>\n",
       "<table border=\"1\" class=\"dataframe\">\n",
       "  <thead>\n",
       "    <tr style=\"text-align: right;\">\n",
       "      <th></th>\n",
       "      <th>id</th>\n",
       "      <th>title</th>\n",
       "      <th>author</th>\n",
       "      <th>text</th>\n",
       "      <th>label</th>\n",
       "    </tr>\n",
       "  </thead>\n",
       "  <tbody>\n",
       "    <tr>\n",
       "      <th>0</th>\n",
       "      <td>0</td>\n",
       "      <td>House Dem Aide: We Didn’t Even See Comey’s Let...</td>\n",
       "      <td>Darrell Lucus</td>\n",
       "      <td>House Dem Aide: We Didn’t Even See Comey’s Let...</td>\n",
       "      <td>1</td>\n",
       "    </tr>\n",
       "    <tr>\n",
       "      <th>1</th>\n",
       "      <td>1</td>\n",
       "      <td>FLYNN: Hillary Clinton, Big Woman on Campus - ...</td>\n",
       "      <td>Daniel J. Flynn</td>\n",
       "      <td>Ever get the feeling your life circles the rou...</td>\n",
       "      <td>0</td>\n",
       "    </tr>\n",
       "    <tr>\n",
       "      <th>2</th>\n",
       "      <td>2</td>\n",
       "      <td>Why the Truth Might Get You Fired</td>\n",
       "      <td>Consortiumnews.com</td>\n",
       "      <td>Why the Truth Might Get You Fired October 29, ...</td>\n",
       "      <td>1</td>\n",
       "    </tr>\n",
       "    <tr>\n",
       "      <th>3</th>\n",
       "      <td>3</td>\n",
       "      <td>15 Civilians Killed In Single US Airstrike Hav...</td>\n",
       "      <td>Jessica Purkiss</td>\n",
       "      <td>Videos 15 Civilians Killed In Single US Airstr...</td>\n",
       "      <td>1</td>\n",
       "    </tr>\n",
       "    <tr>\n",
       "      <th>4</th>\n",
       "      <td>4</td>\n",
       "      <td>Iranian woman jailed for fictional unpublished...</td>\n",
       "      <td>Howard Portnoy</td>\n",
       "      <td>Print \\nAn Iranian woman has been sentenced to...</td>\n",
       "      <td>1</td>\n",
       "    </tr>\n",
       "    <tr>\n",
       "      <th>5</th>\n",
       "      <td>5</td>\n",
       "      <td>Jackie Mason: Hollywood Would Love Trump if He...</td>\n",
       "      <td>Daniel Nussbaum</td>\n",
       "      <td>In these trying times, Jackie Mason is the Voi...</td>\n",
       "      <td>0</td>\n",
       "    </tr>\n",
       "  </tbody>\n",
       "</table>\n",
       "</div>"
      ],
      "text/plain": [
       "   id                                              title              author  \\\n",
       "0   0  House Dem Aide: We Didn’t Even See Comey’s Let...       Darrell Lucus   \n",
       "1   1  FLYNN: Hillary Clinton, Big Woman on Campus - ...     Daniel J. Flynn   \n",
       "2   2                  Why the Truth Might Get You Fired  Consortiumnews.com   \n",
       "3   3  15 Civilians Killed In Single US Airstrike Hav...     Jessica Purkiss   \n",
       "4   4  Iranian woman jailed for fictional unpublished...      Howard Portnoy   \n",
       "5   5  Jackie Mason: Hollywood Would Love Trump if He...     Daniel Nussbaum   \n",
       "\n",
       "                                                text  label  \n",
       "0  House Dem Aide: We Didn’t Even See Comey’s Let...      1  \n",
       "1  Ever get the feeling your life circles the rou...      0  \n",
       "2  Why the Truth Might Get You Fired October 29, ...      1  \n",
       "3  Videos 15 Civilians Killed In Single US Airstr...      1  \n",
       "4  Print \\nAn Iranian woman has been sentenced to...      1  \n",
       "5  In these trying times, Jackie Mason is the Voi...      0  "
      ]
     },
     "execution_count": 5,
     "metadata": {},
     "output_type": "execute_result"
    }
   ],
   "source": [
    "zf = zipfile.ZipFile('train.csv.zip')\n",
    "df_train = pd.read_csv(zf.open('train.csv'))\n",
    "df_train.head(6)"
   ]
  },
  {
   "cell_type": "code",
   "execution_count": 6,
   "metadata": {},
   "outputs": [
    {
     "name": "stdout",
     "output_type": "stream",
     "text": [
      "Size of dataframe before cleanup: 20800\n",
      "Size of dataframe after cleanup: 20800\n"
     ]
    }
   ],
   "source": [
    "#Check for missing values; remove rows with both text and title empty\n",
    "\n",
    "print(\"Size of dataframe before cleanup: \" + str(len(df_train)))\n",
    "df_train.isnull().values.any()\n",
    "df_train.dropna(axis=0, how='all', subset=['text', 'title'], inplace=True)\n",
    "print(\"Size of dataframe after cleanup: \" + str(len(df_train)))"
   ]
  },
  {
   "cell_type": "code",
   "execution_count": 7,
   "metadata": {},
   "outputs": [
    {
     "data": {
      "image/png": "[encoded data removed]",
      "text/plain": [
       "<Figure size 432x288 with 1 Axes>"
      ]
     },
     "metadata": {
      "needs_background": "light"
     },
     "output_type": "display_data"
    }
   ],
   "source": [
    "#Compare fake and real training dataset size to check if distribution is even/skewed\n",
    "\n",
    "values = df_train['label'].value_counts()\n",
    "plt.bar(x=[\"real\", \"fake\"], height=values, color=[\"green\", \"red\"])\n",
    "for x,y in zip([\"real\", \"fake\"],values):\n",
    "\n",
    "    label = \"{:.2f}\".format(y)\n",
    "\n",
    "    plt.annotate(label, # text\n",
    "                 (x,y), # point to label\n",
    "                 textcoords=\"offset points\", # text position\n",
    "                 xytext=(0,10), # distance from text to points\n",
    "                 ha='center') # horizontal alignment\n",
    "plt.show()"
   ]
  },
  {
   "cell_type": "code",
   "execution_count": 8,
   "metadata": {},
   "outputs": [
    {
     "data": {
      "text/html": [
       "<div>\n",
       "<style scoped>\n",
       "    .dataframe tbody tr th:only-of-type {\n",
       "        vertical-align: middle;\n",
       "    }\n",
       "\n",
       "    .dataframe tbody tr th {\n",
       "        vertical-align: top;\n",
       "    }\n",
       "\n",
       "    .dataframe thead th {\n",
       "        text-align: right;\n",
       "    }\n",
       "</style>\n",
       "<table border=\"1\" class=\"dataframe\">\n",
       "  <thead>\n",
       "    <tr style=\"text-align: right;\">\n",
       "      <th></th>\n",
       "      <th>id</th>\n",
       "      <th>title</th>\n",
       "      <th>author</th>\n",
       "      <th>text</th>\n",
       "      <th>label</th>\n",
       "    </tr>\n",
       "  </thead>\n",
       "  <tbody>\n",
       "    <tr>\n",
       "      <th>1</th>\n",
       "      <td>1</td>\n",
       "      <td>FLYNN: Hillary Clinton, Big Woman on Campus - ...</td>\n",
       "      <td>Daniel J. Flynn</td>\n",
       "      <td>Ever get the feeling your life circles the rou...</td>\n",
       "      <td>0</td>\n",
       "    </tr>\n",
       "    <tr>\n",
       "      <th>5</th>\n",
       "      <td>5</td>\n",
       "      <td>Jackie Mason: Hollywood Would Love Trump if He...</td>\n",
       "      <td>Daniel Nussbaum</td>\n",
       "      <td>In these trying times, Jackie Mason is the Voi...</td>\n",
       "      <td>0</td>\n",
       "    </tr>\n",
       "    <tr>\n",
       "      <th>7</th>\n",
       "      <td>7</td>\n",
       "      <td>Benoît Hamon Wins French Socialist Party’s Pre...</td>\n",
       "      <td>Alissa J. Rubin</td>\n",
       "      <td>PARIS  —   France chose an idealistic, traditi...</td>\n",
       "      <td>0</td>\n",
       "    </tr>\n",
       "    <tr>\n",
       "      <th>8</th>\n",
       "      <td>8</td>\n",
       "      <td>Excerpts From a Draft Script for Donald Trump’...</td>\n",
       "      <td>NaN</td>\n",
       "      <td>Donald J. Trump is scheduled to make a highly ...</td>\n",
       "      <td>0</td>\n",
       "    </tr>\n",
       "    <tr>\n",
       "      <th>9</th>\n",
       "      <td>9</td>\n",
       "      <td>A Back-Channel Plan for Ukraine and Russia, Co...</td>\n",
       "      <td>Megan Twohey and Scott Shane</td>\n",
       "      <td>A week before Michael T. Flynn resigned as nat...</td>\n",
       "      <td>0</td>\n",
       "    </tr>\n",
       "    <tr>\n",
       "      <th>10</th>\n",
       "      <td>10</td>\n",
       "      <td>Obama’s Organizing for Action Partners with So...</td>\n",
       "      <td>Aaron Klein</td>\n",
       "      <td>Organizing for Action, the activist group that...</td>\n",
       "      <td>0</td>\n",
       "    </tr>\n",
       "  </tbody>\n",
       "</table>\n",
       "</div>"
      ],
      "text/plain": [
       "    id                                              title  \\\n",
       "1    1  FLYNN: Hillary Clinton, Big Woman on Campus - ...   \n",
       "5    5  Jackie Mason: Hollywood Would Love Trump if He...   \n",
       "7    7  Benoît Hamon Wins French Socialist Party’s Pre...   \n",
       "8    8  Excerpts From a Draft Script for Donald Trump’...   \n",
       "9    9  A Back-Channel Plan for Ukraine and Russia, Co...   \n",
       "10  10  Obama’s Organizing for Action Partners with So...   \n",
       "\n",
       "                          author  \\\n",
       "1                Daniel J. Flynn   \n",
       "5                Daniel Nussbaum   \n",
       "7                Alissa J. Rubin   \n",
       "8                            NaN   \n",
       "9   Megan Twohey and Scott Shane   \n",
       "10                   Aaron Klein   \n",
       "\n",
       "                                                 text  label  \n",
       "1   Ever get the feeling your life circles the rou...      0  \n",
       "5   In these trying times, Jackie Mason is the Voi...      0  \n",
       "7   PARIS  —   France chose an idealistic, traditi...      0  \n",
       "8   Donald J. Trump is scheduled to make a highly ...      0  \n",
       "9   A week before Michael T. Flynn resigned as nat...      0  \n",
       "10  Organizing for Action, the activist group that...      0  "
      ]
     },
     "execution_count": 8,
     "metadata": {},
     "output_type": "execute_result"
    }
   ],
   "source": [
    "#Extract real data; rows with label = 0\n",
    "\n",
    "df_reliable = df_train.loc[df_train['label'] == 0]\n",
    "df_reliable.head(6)"
   ]
  },
  {
   "cell_type": "code",
   "execution_count": 9,
   "metadata": {},
   "outputs": [
    {
     "data": {
      "text/html": [
       "<div>\n",
       "<style scoped>\n",
       "    .dataframe tbody tr th:only-of-type {\n",
       "        vertical-align: middle;\n",
       "    }\n",
       "\n",
       "    .dataframe tbody tr th {\n",
       "        vertical-align: top;\n",
       "    }\n",
       "\n",
       "    .dataframe thead th {\n",
       "        text-align: right;\n",
       "    }\n",
       "</style>\n",
       "<table border=\"1\" class=\"dataframe\">\n",
       "  <thead>\n",
       "    <tr style=\"text-align: right;\">\n",
       "      <th></th>\n",
       "      <th>id</th>\n",
       "      <th>title</th>\n",
       "      <th>author</th>\n",
       "      <th>text</th>\n",
       "      <th>label</th>\n",
       "    </tr>\n",
       "  </thead>\n",
       "  <tbody>\n",
       "    <tr>\n",
       "      <th>0</th>\n",
       "      <td>0</td>\n",
       "      <td>House Dem Aide: We Didn’t Even See Comey’s Let...</td>\n",
       "      <td>Darrell Lucus</td>\n",
       "      <td>House Dem Aide: We Didn’t Even See Comey’s Let...</td>\n",
       "      <td>1</td>\n",
       "    </tr>\n",
       "    <tr>\n",
       "      <th>2</th>\n",
       "      <td>2</td>\n",
       "      <td>Why the Truth Might Get You Fired</td>\n",
       "      <td>Consortiumnews.com</td>\n",
       "      <td>Why the Truth Might Get You Fired October 29, ...</td>\n",
       "      <td>1</td>\n",
       "    </tr>\n",
       "    <tr>\n",
       "      <th>3</th>\n",
       "      <td>3</td>\n",
       "      <td>15 Civilians Killed In Single US Airstrike Hav...</td>\n",
       "      <td>Jessica Purkiss</td>\n",
       "      <td>Videos 15 Civilians Killed In Single US Airstr...</td>\n",
       "      <td>1</td>\n",
       "    </tr>\n",
       "    <tr>\n",
       "      <th>4</th>\n",
       "      <td>4</td>\n",
       "      <td>Iranian woman jailed for fictional unpublished...</td>\n",
       "      <td>Howard Portnoy</td>\n",
       "      <td>Print \\nAn Iranian woman has been sentenced to...</td>\n",
       "      <td>1</td>\n",
       "    </tr>\n",
       "    <tr>\n",
       "      <th>6</th>\n",
       "      <td>6</td>\n",
       "      <td>Life: Life Of Luxury: Elton John’s 6 Favorite ...</td>\n",
       "      <td>NaN</td>\n",
       "      <td>Ever wonder how Britain’s most iconic pop pian...</td>\n",
       "      <td>1</td>\n",
       "    </tr>\n",
       "    <tr>\n",
       "      <th>12</th>\n",
       "      <td>12</td>\n",
       "      <td>Russian Researchers Discover Secret Nazi Milit...</td>\n",
       "      <td>Amando Flavio</td>\n",
       "      <td>The mystery surrounding The Third Reich and Na...</td>\n",
       "      <td>1</td>\n",
       "    </tr>\n",
       "  </tbody>\n",
       "</table>\n",
       "</div>"
      ],
      "text/plain": [
       "    id                                              title              author  \\\n",
       "0    0  House Dem Aide: We Didn’t Even See Comey’s Let...       Darrell Lucus   \n",
       "2    2                  Why the Truth Might Get You Fired  Consortiumnews.com   \n",
       "3    3  15 Civilians Killed In Single US Airstrike Hav...     Jessica Purkiss   \n",
       "4    4  Iranian woman jailed for fictional unpublished...      Howard Portnoy   \n",
       "6    6  Life: Life Of Luxury: Elton John’s 6 Favorite ...                 NaN   \n",
       "12  12  Russian Researchers Discover Secret Nazi Milit...       Amando Flavio   \n",
       "\n",
       "                                                 text  label  \n",
       "0   House Dem Aide: We Didn’t Even See Comey’s Let...      1  \n",
       "2   Why the Truth Might Get You Fired October 29, ...      1  \n",
       "3   Videos 15 Civilians Killed In Single US Airstr...      1  \n",
       "4   Print \\nAn Iranian woman has been sentenced to...      1  \n",
       "6   Ever wonder how Britain’s most iconic pop pian...      1  \n",
       "12  The mystery surrounding The Third Reich and Na...      1  "
      ]
     },
     "execution_count": 9,
     "metadata": {},
     "output_type": "execute_result"
    }
   ],
   "source": [
    "#Extract real data; rows with label = 1\n",
    "\n",
    "df_fake = df_train.loc[df_train['label'] == 1]\n",
    "df_fake.head(6)"
   ]
  },
  {
   "cell_type": "code",
   "execution_count": 10,
   "metadata": {},
   "outputs": [
    {
     "data": {
      "text/html": [
       "<div>\n",
       "<style scoped>\n",
       "    .dataframe tbody tr th:only-of-type {\n",
       "        vertical-align: middle;\n",
       "    }\n",
       "\n",
       "    .dataframe tbody tr th {\n",
       "        vertical-align: top;\n",
       "    }\n",
       "\n",
       "    .dataframe thead th {\n",
       "        text-align: right;\n",
       "    }\n",
       "</style>\n",
       "<table border=\"1\" class=\"dataframe\">\n",
       "  <thead>\n",
       "    <tr style=\"text-align: right;\">\n",
       "      <th></th>\n",
       "      <th>id</th>\n",
       "      <th>author</th>\n",
       "      <th>label</th>\n",
       "      <th>article</th>\n",
       "    </tr>\n",
       "  </thead>\n",
       "  <tbody>\n",
       "    <tr>\n",
       "      <th>0</th>\n",
       "      <td>0</td>\n",
       "      <td>Darrell Lucus</td>\n",
       "      <td>1</td>\n",
       "      <td>House Dem Aide: We Didn’t Even See Comey’s Let...</td>\n",
       "    </tr>\n",
       "    <tr>\n",
       "      <th>1</th>\n",
       "      <td>1</td>\n",
       "      <td>Daniel J. Flynn</td>\n",
       "      <td>0</td>\n",
       "      <td>FLYNN: Hillary Clinton, Big Woman on Campus - ...</td>\n",
       "    </tr>\n",
       "    <tr>\n",
       "      <th>2</th>\n",
       "      <td>2</td>\n",
       "      <td>Consortiumnews.com</td>\n",
       "      <td>1</td>\n",
       "      <td>Why the Truth Might Get You Fired Why the Trut...</td>\n",
       "    </tr>\n",
       "    <tr>\n",
       "      <th>3</th>\n",
       "      <td>3</td>\n",
       "      <td>Jessica Purkiss</td>\n",
       "      <td>1</td>\n",
       "      <td>15 Civilians Killed In Single US Airstrike Hav...</td>\n",
       "    </tr>\n",
       "    <tr>\n",
       "      <th>4</th>\n",
       "      <td>4</td>\n",
       "      <td>Howard Portnoy</td>\n",
       "      <td>1</td>\n",
       "      <td>Iranian woman jailed for fictional unpublished...</td>\n",
       "    </tr>\n",
       "    <tr>\n",
       "      <th>5</th>\n",
       "      <td>5</td>\n",
       "      <td>Daniel Nussbaum</td>\n",
       "      <td>0</td>\n",
       "      <td>Jackie Mason: Hollywood Would Love Trump if He...</td>\n",
       "    </tr>\n",
       "  </tbody>\n",
       "</table>\n",
       "</div>"
      ],
      "text/plain": [
       "   id              author  label  \\\n",
       "0   0       Darrell Lucus      1   \n",
       "1   1     Daniel J. Flynn      0   \n",
       "2   2  Consortiumnews.com      1   \n",
       "3   3     Jessica Purkiss      1   \n",
       "4   4      Howard Portnoy      1   \n",
       "5   5     Daniel Nussbaum      0   \n",
       "\n",
       "                                             article  \n",
       "0  House Dem Aide: We Didn’t Even See Comey’s Let...  \n",
       "1  FLYNN: Hillary Clinton, Big Woman on Campus - ...  \n",
       "2  Why the Truth Might Get You Fired Why the Trut...  \n",
       "3  15 Civilians Killed In Single US Airstrike Hav...  \n",
       "4  Iranian woman jailed for fictional unpublished...  \n",
       "5  Jackie Mason: Hollywood Would Love Trump if He...  "
      ]
     },
     "execution_count": 10,
     "metadata": {},
     "output_type": "execute_result"
    }
   ],
   "source": [
    "#Add custom field article that combines text and title into same column article\n",
    "\n",
    "df_train['article'] = df_train['title'] + ' ' + df_train['text']\n",
    "df_train.drop(columns=['title', 'text'], inplace = True)\n",
    "df_train.head(6)"
   ]
  },
  {
   "cell_type": "code",
   "execution_count": 11,
   "metadata": {},
   "outputs": [],
   "source": [
    "#Clean up and preprocess data\n",
    "\n",
    "stop_words = stopwords.words('english')\n",
    "lemmatizer = WordNetLemmatizer()"
   ]
  },
  {
   "cell_type": "code",
   "execution_count": 12,
   "metadata": {},
   "outputs": [],
   "source": [
    "def preprocessArticle(article):\n",
    "    #Clean sentence to remove any punctuations, convert to lower case\n",
    "    cleaned_sentence = re.sub(r'[^\\w\\s]', '', str(article).lower())\n",
    "    #Tokenize sentence into words\n",
    "    words = nltk.word_tokenize(cleaned_sentence)\n",
    "    #Remove stop words and words with length less than equal to 3\n",
    "    filtered_words = [word for word in words if not word in stop_words and len(word) > 3]\n",
    "    #Lemmatize\n",
    "    output_sentence = ''\n",
    "    for word in filtered_words:\n",
    "        output_sentence = output_sentence  + ' ' + str(lemmatizer.lemmatize(word))\n",
    "    \n",
    "    return output_sentence"
   ]
  },
  {
   "cell_type": "code",
   "execution_count": 13,
   "metadata": {},
   "outputs": [
    {
     "data": {
      "text/html": [
       "<div>\n",
       "<style scoped>\n",
       "    .dataframe tbody tr th:only-of-type {\n",
       "        vertical-align: middle;\n",
       "    }\n",
       "\n",
       "    .dataframe tbody tr th {\n",
       "        vertical-align: top;\n",
       "    }\n",
       "\n",
       "    .dataframe thead th {\n",
       "        text-align: right;\n",
       "    }\n",
       "</style>\n",
       "<table border=\"1\" class=\"dataframe\">\n",
       "  <thead>\n",
       "    <tr style=\"text-align: right;\">\n",
       "      <th></th>\n",
       "      <th>id</th>\n",
       "      <th>author</th>\n",
       "      <th>label</th>\n",
       "      <th>article</th>\n",
       "      <th>cleaned_article</th>\n",
       "    </tr>\n",
       "  </thead>\n",
       "  <tbody>\n",
       "    <tr>\n",
       "      <th>0</th>\n",
       "      <td>0</td>\n",
       "      <td>Darrell Lucus</td>\n",
       "      <td>1</td>\n",
       "      <td>House Dem Aide: We Didn’t Even See Comey’s Let...</td>\n",
       "      <td>house aide didnt even comeys letter jason cha...</td>\n",
       "    </tr>\n",
       "    <tr>\n",
       "      <th>1</th>\n",
       "      <td>1</td>\n",
       "      <td>Daniel J. Flynn</td>\n",
       "      <td>0</td>\n",
       "      <td>FLYNN: Hillary Clinton, Big Woman on Campus - ...</td>\n",
       "      <td>flynn hillary clinton woman campus breitbart ...</td>\n",
       "    </tr>\n",
       "    <tr>\n",
       "      <th>2</th>\n",
       "      <td>2</td>\n",
       "      <td>Consortiumnews.com</td>\n",
       "      <td>1</td>\n",
       "      <td>Why the Truth Might Get You Fired Why the Trut...</td>\n",
       "      <td>truth might fired truth might fired october 2...</td>\n",
       "    </tr>\n",
       "    <tr>\n",
       "      <th>3</th>\n",
       "      <td>3</td>\n",
       "      <td>Jessica Purkiss</td>\n",
       "      <td>1</td>\n",
       "      <td>15 Civilians Killed In Single US Airstrike Hav...</td>\n",
       "      <td>civilian killed single airstrike identified v...</td>\n",
       "    </tr>\n",
       "    <tr>\n",
       "      <th>4</th>\n",
       "      <td>4</td>\n",
       "      <td>Howard Portnoy</td>\n",
       "      <td>1</td>\n",
       "      <td>Iranian woman jailed for fictional unpublished...</td>\n",
       "      <td>iranian woman jailed fictional unpublished st...</td>\n",
       "    </tr>\n",
       "    <tr>\n",
       "      <th>5</th>\n",
       "      <td>5</td>\n",
       "      <td>Daniel Nussbaum</td>\n",
       "      <td>0</td>\n",
       "      <td>Jackie Mason: Hollywood Would Love Trump if He...</td>\n",
       "      <td>jackie mason hollywood would love trump bombe...</td>\n",
       "    </tr>\n",
       "  </tbody>\n",
       "</table>\n",
       "</div>"
      ],
      "text/plain": [
       "   id              author  label  \\\n",
       "0   0       Darrell Lucus      1   \n",
       "1   1     Daniel J. Flynn      0   \n",
       "2   2  Consortiumnews.com      1   \n",
       "3   3     Jessica Purkiss      1   \n",
       "4   4      Howard Portnoy      1   \n",
       "5   5     Daniel Nussbaum      0   \n",
       "\n",
       "                                             article  \\\n",
       "0  House Dem Aide: We Didn’t Even See Comey’s Let...   \n",
       "1  FLYNN: Hillary Clinton, Big Woman on Campus - ...   \n",
       "2  Why the Truth Might Get You Fired Why the Trut...   \n",
       "3  15 Civilians Killed In Single US Airstrike Hav...   \n",
       "4  Iranian woman jailed for fictional unpublished...   \n",
       "5  Jackie Mason: Hollywood Would Love Trump if He...   \n",
       "\n",
       "                                     cleaned_article  \n",
       "0   house aide didnt even comeys letter jason cha...  \n",
       "1   flynn hillary clinton woman campus breitbart ...  \n",
       "2   truth might fired truth might fired october 2...  \n",
       "3   civilian killed single airstrike identified v...  \n",
       "4   iranian woman jailed fictional unpublished st...  \n",
       "5   jackie mason hollywood would love trump bombe...  "
      ]
     },
     "execution_count": 13,
     "metadata": {},
     "output_type": "execute_result"
    }
   ],
   "source": [
    "for index, row in df_train.iterrows():\n",
    "    cleaned_sentence = preprocessArticle(str(row['article']))\n",
    "    df_train.loc[index, 'cleaned_article'] = cleaned_sentence\n",
    "\n",
    "df_train.head(6)"
   ]
  },
  {
   "cell_type": "code",
   "execution_count": 14,
   "metadata": {},
   "outputs": [],
   "source": [
    "#Sentiment analysis to see polarity difference if any between fake and real articles\n",
    "\n",
    "df_reliable = df_train.loc[df_train['label'] == 0]\n",
    "df_fake = df_train.loc[df_train['label'] == 1]\n",
    "\n",
    "cleaned_reliable_articles = list(df_reliable['cleaned_article'])\n",
    "cleaned_fake_articles = list(df_fake['cleaned_article'])\n",
    "\n",
    "sentimentAnalyzer = SentimentIntensityAnalyzer()\n",
    "\n",
    "#Sentiment analysis for reliable articles\n",
    "sentimentscores = []\n",
    "for i in cleaned_reliable_articles:\n",
    "    score = sentimentAnalyzer.polarity_scores(i)\n",
    "    score['article'] = i\n",
    "    sentimentscores.append(score)\n",
    "    \n",
    "sentimentdf_reliable = pd.DataFrame(sentimentscores)\n",
    "\n",
    "#Sentiment analysis for fake articles\n",
    "sentimentscores = []\n",
    "for i in cleaned_fake_articles:\n",
    "    score = sentimentAnalyzer.polarity_scores(i)\n",
    "    score['article'] = i\n",
    "    sentimentscores.append(score)\n",
    "    \n",
    "sentimentdf_fake = pd.DataFrame(sentimentscores)"
   ]
  },
  {
   "cell_type": "code",
   "execution_count": 15,
   "metadata": {},
   "outputs": [
    {
     "data": {
      "text/html": [
       "<div>\n",
       "<style scoped>\n",
       "    .dataframe tbody tr th:only-of-type {\n",
       "        vertical-align: middle;\n",
       "    }\n",
       "\n",
       "    .dataframe tbody tr th {\n",
       "        vertical-align: top;\n",
       "    }\n",
       "\n",
       "    .dataframe thead th {\n",
       "        text-align: right;\n",
       "    }\n",
       "</style>\n",
       "<table border=\"1\" class=\"dataframe\">\n",
       "  <thead>\n",
       "    <tr style=\"text-align: right;\">\n",
       "      <th></th>\n",
       "      <th>neg</th>\n",
       "      <th>neu</th>\n",
       "      <th>pos</th>\n",
       "      <th>compound</th>\n",
       "      <th>article</th>\n",
       "    </tr>\n",
       "  </thead>\n",
       "  <tbody>\n",
       "    <tr>\n",
       "      <th>0</th>\n",
       "      <td>0.142</td>\n",
       "      <td>0.686</td>\n",
       "      <td>0.172</td>\n",
       "      <td>0.8979</td>\n",
       "      <td>flynn hillary clinton woman campus breitbart ...</td>\n",
       "    </tr>\n",
       "    <tr>\n",
       "      <th>1</th>\n",
       "      <td>0.137</td>\n",
       "      <td>0.658</td>\n",
       "      <td>0.205</td>\n",
       "      <td>0.9094</td>\n",
       "      <td>jackie mason hollywood would love trump bombe...</td>\n",
       "    </tr>\n",
       "    <tr>\n",
       "      <th>2</th>\n",
       "      <td>0.039</td>\n",
       "      <td>0.748</td>\n",
       "      <td>0.213</td>\n",
       "      <td>0.9975</td>\n",
       "      <td>benoît hamon win french socialist party presi...</td>\n",
       "    </tr>\n",
       "    <tr>\n",
       "      <th>3</th>\n",
       "      <td>0.044</td>\n",
       "      <td>0.679</td>\n",
       "      <td>0.277</td>\n",
       "      <td>0.9995</td>\n",
       "      <td>excerpt draft script donald trump qampa black...</td>\n",
       "    </tr>\n",
       "    <tr>\n",
       "      <th>4</th>\n",
       "      <td>0.079</td>\n",
       "      <td>0.768</td>\n",
       "      <td>0.153</td>\n",
       "      <td>0.9968</td>\n",
       "      <td>backchannel plan ukraine russia courtesy trum...</td>\n",
       "    </tr>\n",
       "    <tr>\n",
       "      <th>5</th>\n",
       "      <td>0.078</td>\n",
       "      <td>0.846</td>\n",
       "      <td>0.076</td>\n",
       "      <td>-0.5318</td>\n",
       "      <td>obamas organizing action partner soroslinked ...</td>\n",
       "    </tr>\n",
       "  </tbody>\n",
       "</table>\n",
       "</div>"
      ],
      "text/plain": [
       "     neg    neu    pos  compound  \\\n",
       "0  0.142  0.686  0.172    0.8979   \n",
       "1  0.137  0.658  0.205    0.9094   \n",
       "2  0.039  0.748  0.213    0.9975   \n",
       "3  0.044  0.679  0.277    0.9995   \n",
       "4  0.079  0.768  0.153    0.9968   \n",
       "5  0.078  0.846  0.076   -0.5318   \n",
       "\n",
       "                                             article  \n",
       "0   flynn hillary clinton woman campus breitbart ...  \n",
       "1   jackie mason hollywood would love trump bombe...  \n",
       "2   benoît hamon win french socialist party presi...  \n",
       "3   excerpt draft script donald trump qampa black...  \n",
       "4   backchannel plan ukraine russia courtesy trum...  \n",
       "5   obamas organizing action partner soroslinked ...  "
      ]
     },
     "execution_count": 15,
     "metadata": {},
     "output_type": "execute_result"
    }
   ],
   "source": [
    "sentimentdf_reliable.head(6)"
   ]
  },
  {
   "cell_type": "code",
   "execution_count": 16,
   "metadata": {},
   "outputs": [
    {
     "data": {
      "text/html": [
       "<div>\n",
       "<style scoped>\n",
       "    .dataframe tbody tr th:only-of-type {\n",
       "        vertical-align: middle;\n",
       "    }\n",
       "\n",
       "    .dataframe tbody tr th {\n",
       "        vertical-align: top;\n",
       "    }\n",
       "\n",
       "    .dataframe thead th {\n",
       "        text-align: right;\n",
       "    }\n",
       "</style>\n",
       "<table border=\"1\" class=\"dataframe\">\n",
       "  <thead>\n",
       "    <tr style=\"text-align: right;\">\n",
       "      <th></th>\n",
       "      <th>neg</th>\n",
       "      <th>neu</th>\n",
       "      <th>pos</th>\n",
       "      <th>compound</th>\n",
       "      <th>article</th>\n",
       "    </tr>\n",
       "  </thead>\n",
       "  <tbody>\n",
       "    <tr>\n",
       "      <th>0</th>\n",
       "      <td>0.084</td>\n",
       "      <td>0.827</td>\n",
       "      <td>0.089</td>\n",
       "      <td>-0.3213</td>\n",
       "      <td>house aide didnt even comeys letter jason cha...</td>\n",
       "    </tr>\n",
       "    <tr>\n",
       "      <th>1</th>\n",
       "      <td>0.114</td>\n",
       "      <td>0.657</td>\n",
       "      <td>0.229</td>\n",
       "      <td>0.9979</td>\n",
       "      <td>truth might fired truth might fired october 2...</td>\n",
       "    </tr>\n",
       "    <tr>\n",
       "      <th>2</th>\n",
       "      <td>0.370</td>\n",
       "      <td>0.571</td>\n",
       "      <td>0.058</td>\n",
       "      <td>-0.9988</td>\n",
       "      <td>civilian killed single airstrike identified v...</td>\n",
       "    </tr>\n",
       "    <tr>\n",
       "      <th>3</th>\n",
       "      <td>0.246</td>\n",
       "      <td>0.716</td>\n",
       "      <td>0.038</td>\n",
       "      <td>-0.9753</td>\n",
       "      <td>iranian woman jailed fictional unpublished st...</td>\n",
       "    </tr>\n",
       "    <tr>\n",
       "      <th>4</th>\n",
       "      <td>0.014</td>\n",
       "      <td>0.781</td>\n",
       "      <td>0.205</td>\n",
       "      <td>0.9957</td>\n",
       "      <td>life life luxury elton john favorite shark pi...</td>\n",
       "    </tr>\n",
       "    <tr>\n",
       "      <th>5</th>\n",
       "      <td>0.102</td>\n",
       "      <td>0.818</td>\n",
       "      <td>0.080</td>\n",
       "      <td>-0.8316</td>\n",
       "      <td>russian researcher discover secret nazi milit...</td>\n",
       "    </tr>\n",
       "  </tbody>\n",
       "</table>\n",
       "</div>"
      ],
      "text/plain": [
       "     neg    neu    pos  compound  \\\n",
       "0  0.084  0.827  0.089   -0.3213   \n",
       "1  0.114  0.657  0.229    0.9979   \n",
       "2  0.370  0.571  0.058   -0.9988   \n",
       "3  0.246  0.716  0.038   -0.9753   \n",
       "4  0.014  0.781  0.205    0.9957   \n",
       "5  0.102  0.818  0.080   -0.8316   \n",
       "\n",
       "                                             article  \n",
       "0   house aide didnt even comeys letter jason cha...  \n",
       "1   truth might fired truth might fired october 2...  \n",
       "2   civilian killed single airstrike identified v...  \n",
       "3   iranian woman jailed fictional unpublished st...  \n",
       "4   life life luxury elton john favorite shark pi...  \n",
       "5   russian researcher discover secret nazi milit...  "
      ]
     },
     "execution_count": 16,
     "metadata": {},
     "output_type": "execute_result"
    }
   ],
   "source": [
    "sentimentdf_fake.head(6)"
   ]
  },
  {
   "cell_type": "code",
   "execution_count": 17,
   "metadata": {},
   "outputs": [],
   "source": [
    "sentimentdf_reliable.drop(columns=['article'], inplace = True)\n",
    "average_sentiment_reliable = sentimentdf_reliable.mean()\n",
    "\n",
    "sentimentdf_fake.drop(columns=['article'], inplace = True)\n",
    "average_sentiment_fake = sentimentdf_fake.mean()"
   ]
  },
  {
   "cell_type": "code",
   "execution_count": 18,
   "metadata": {},
   "outputs": [
    {
     "name": "stdout",
     "output_type": "stream",
     "text": [
      "\n",
      "Sentiment_analysis..\n",
      "\n"
     ]
    },
    {
     "data": {
      "image/png": "[encoded data removed]",
      "text/plain": [
       "<Figure size 1584x504 with 2 Axes>"
      ]
     },
     "metadata": {
      "needs_background": "light"
     },
     "output_type": "display_data"
    }
   ],
   "source": [
    "print(\"\\nSentiment_analysis..\\n\")\n",
    "names = ['compound', 'negative', 'neutral','positive']\n",
    "colors=[\"orange\", \"red\", \"blue\" , \"green\"]\n",
    "\n",
    "plt.figure(figsize=(22, 7))\n",
    "plt.subplot(131)\n",
    "plt.bar(names,average_sentiment_reliable, color=colors)\n",
    "plt.title(\"Real news\")\n",
    "plt.ylabel(\"Average score\")\n",
    "# zip joins x and y coordinates in pairs\n",
    "for x,y in zip(names,average_sentiment_reliable):\n",
    "\n",
    "    label = \"{:.2f}\".format(y)\n",
    "\n",
    "    plt.annotate(label, # text\n",
    "                 (x,y), # point to label\n",
    "                 textcoords=\"offset points\", # text position\n",
    "                 xytext=(0,10), # distance from text to points\n",
    "                 ha='center') # horizontal alignment\n",
    "plt.subplot(132)\n",
    "plt.bar(names,average_sentiment_fake, color=colors)\n",
    "plt.title(\"Fake news\")\n",
    "plt.ylabel(\"Average score\")\n",
    "for x,y in zip(names,average_sentiment_fake):\n",
    "\n",
    "    label = \"{:.2f}\".format(y)\n",
    "\n",
    "    plt.annotate(label, # text\n",
    "                 (x,y), # point to label\n",
    "                 textcoords=\"offset points\", # text position\n",
    "                 xytext=(0,10), # distance from text to points\n",
    "                 ha='center') # horizontal alignment\n",
    "\n",
    "plt.show()"
   ]
  },
  {
   "cell_type": "code",
   "execution_count": null,
   "metadata": {},
   "outputs": [],
   "source": []
  },
  {
   "cell_type": "markdown",
   "metadata": {},
   "source": [
    "# Vectorization"
   ]
  },
  {
   "cell_type": "code",
   "execution_count": 19,
   "metadata": {},
   "outputs": [
    {
     "data": {
      "text/plain": [
       "0    1\n",
       "1    0\n",
       "2    1\n",
       "3    1\n",
       "4    1\n",
       "5    0\n",
       "Name: label, dtype: int64"
      ]
     },
     "execution_count": 19,
     "metadata": {},
     "output_type": "execute_result"
    }
   ],
   "source": [
    "df_x = df_train['cleaned_article']\n",
    "df_y = df_train['label']\n",
    "df_x.head(6)\n",
    "df_y.head(6)"
   ]
  },
  {
   "cell_type": "code",
   "execution_count": 20,
   "metadata": {},
   "outputs": [
    {
     "name": "stdout",
     "output_type": "stream",
     "text": [
      "\n",
      "bigram_term_freq_matrix:\n",
      "  (0, 28347)\t1\n",
      "  (0, 29066)\t1\n",
      "  (0, 34949)\t2\n",
      "  (0, 35902)\t1\n",
      "  (0, 38032)\t1\n",
      "  (0, 44480)\t1\n",
      "  (0, 44481)\t1\n",
      "  (0, 56445)\t1\n",
      "  (0, 56473)\t1\n",
      "  (0, 63958)\t1\n",
      "  (0, 64028)\t1\n",
      "  (0, 71733)\t3\n",
      "  (0, 71823)\t1\n",
      "  (0, 72851)\t1\n",
      "  (0, 73917)\t1\n",
      "  (0, 87221)\t1\n",
      "  (0, 87468)\t1\n",
      "  (0, 95347)\t1\n",
      "  (0, 96758)\t1\n",
      "  (0, 116792)\t1\n",
      "  (0, 117170)\t1\n",
      "  (0, 134246)\t1\n",
      "  (0, 135861)\t1\n",
      "  (0, 146535)\t6\n",
      "  (0, 146780)\t2\n",
      "  :\t:\n",
      "  (20799, 4211907)\t1\n",
      "  (20799, 4211908)\t1\n",
      "  (20799, 4221522)\t1\n",
      "  (20799, 4221523)\t1\n",
      "  (20799, 4221573)\t1\n",
      "  (20799, 4221574)\t1\n",
      "  (20799, 4221640)\t1\n",
      "  (20799, 4221641)\t1\n",
      "  (20799, 4221729)\t1\n",
      "  (20799, 4221730)\t1\n",
      "  (20799, 4222199)\t1\n",
      "  (20799, 4222200)\t1\n",
      "  (20799, 4222201)\t1\n",
      "  (20799, 4222202)\t1\n",
      "  (20799, 4222209)\t1\n",
      "  (20799, 4222210)\t1\n",
      "  (20799, 4222536)\t1\n",
      "  (20799, 4222537)\t1\n",
      "  (20799, 4226398)\t4\n",
      "  (20799, 4227909)\t1\n",
      "  (20799, 4229251)\t1\n",
      "  (20799, 4231063)\t1\n",
      "  (20799, 4233293)\t1\n",
      "  (20799, 4241123)\t1\n",
      "  (20799, 4241267)\t1\n"
     ]
    }
   ],
   "source": [
    "#Unigram and bigram term frequency matrix\n",
    "\n",
    "count_vectorizer = CountVectorizer(analyzer='word', ngram_range=(1,2))\n",
    "count_vectorizer.fit(df_x)\n",
    "bigram_term_freq_matrix = count_vectorizer.transform(df_x)\n",
    "print(\"\\nbigram_term_freq_matrix:\")\n",
    "print(bigram_term_freq_matrix)"
   ]
  },
  {
   "cell_type": "code",
   "execution_count": 21,
   "metadata": {},
   "outputs": [
    {
     "name": "stdout",
     "output_type": "stream",
     "text": [
      "\n",
      "bigram_tfidf_matrix:\n",
      "  (0, 4235378)\t0.03241195639621523\n",
      "  (0, 4235376)\t0.032105218768387074\n",
      "  (0, 4234389)\t0.02726253028841198\n",
      "  (0, 4226398)\t0.006356431508144326\n",
      "  (0, 4203725)\t0.039278291446639475\n",
      "  (0, 4203297)\t0.039278291446639475\n",
      "  (0, 4203252)\t0.028926605886906633\n",
      "  (0, 4203031)\t0.07544895675110866\n",
      "  (0, 4202997)\t0.03241195639621523\n",
      "  (0, 4202694)\t0.04662074613139837\n",
      "  (0, 4198527)\t0.039278291446639475\n",
      "  (0, 4195182)\t0.039278291446639475\n",
      "  (0, 4194245)\t0.03576690541704199\n",
      "  (0, 4194182)\t0.024672860548193117\n",
      "  (0, 4185834)\t0.039278291446639475\n",
      "  (0, 4184095)\t0.008663500135815693\n",
      "  (0, 4162666)\t0.039278291446639475\n",
      "  (0, 4162665)\t0.039278291446639475\n",
      "  (0, 4134832)\t0.03772447837555433\n",
      "  (0, 4134300)\t0.013783359013659992\n",
      "  (0, 4130013)\t0.039278291446639475\n",
      "  (0, 4128818)\t0.011176867224256417\n",
      "  (0, 4127302)\t0.030089138191623857\n",
      "  (0, 4123501)\t0.008134356497938377\n",
      "  (0, 4121440)\t0.0315568313562873\n",
      "  :\t:\n",
      "  (20799, 149211)\t0.019908571714262947\n",
      "  (20799, 91550)\t0.05670428718457794\n",
      "  (20799, 90994)\t0.025752078658484702\n",
      "  (20799, 87397)\t0.03262957651937741\n",
      "  (20799, 87221)\t0.014360244072983863\n",
      "  (20799, 83730)\t0.03361183796881683\n",
      "  (20799, 83728)\t0.0278962141068428\n",
      "  (20799, 64595)\t0.029500994141170744\n",
      "  (20799, 64357)\t0.016398921785270644\n",
      "  (20799, 56773)\t0.03262957651937741\n",
      "  (20799, 56474)\t0.010204735379374089\n",
      "  (20799, 55916)\t0.030718824798556275\n",
      "  (20799, 55462)\t0.01263313521140852\n",
      "  (20799, 49946)\t0.03361183796881683\n",
      "  (20799, 49945)\t0.03361183796881683\n",
      "  (20799, 37385)\t0.03361183796881683\n",
      "  (20799, 37224)\t0.02986073700572164\n",
      "  (20799, 34949)\t0.015030053210048303\n",
      "  (20799, 34055)\t0.03262957651937741\n",
      "  (20799, 32843)\t0.0232166228723659\n",
      "  (20799, 32812)\t0.020552474781489884\n",
      "  (20799, 22965)\t0.02986073700572164\n",
      "  (20799, 22662)\t0.01607617169037243\n",
      "  (20799, 4987)\t0.03262957651937741\n",
      "  (20799, 4986)\t0.03262957651937741\n"
     ]
    }
   ],
   "source": [
    "#Unigram and bigram tf-idf matrix\n",
    "\n",
    "tfidf_transformer = TfidfTransformer()\n",
    "tfidf_transformer.fit(bigram_term_freq_matrix)\n",
    "bigram_tfidf_matrix = tfidf_transformer.transform(bigram_term_freq_matrix)\n",
    "print(\"\\nbigram_tfidf_matrix:\")\n",
    "print(bigram_tfidf_matrix)"
   ]
  },
  {
   "cell_type": "code",
   "execution_count": null,
   "metadata": {},
   "outputs": [],
   "source": []
  },
  {
   "cell_type": "markdown",
   "metadata": {},
   "source": [
    "# Split data into train/test groups"
   ]
  },
  {
   "cell_type": "code",
   "execution_count": 22,
   "metadata": {},
   "outputs": [],
   "source": [
    "#Unigram and bigram tf-idf matrix split\n",
    "\n",
    "train_x_bigram_tfidf, test_x_bigram_tfidf, train_y_bigram_tfidf, test_y_bigram_tfidf = train_test_split(bigram_tfidf_matrix, df_y)"
   ]
  },
  {
   "cell_type": "code",
   "execution_count": null,
   "metadata": {},
   "outputs": [],
   "source": []
  },
  {
   "cell_type": "markdown",
   "metadata": {},
   "source": [
    "# TRAINING"
   ]
  },
  {
   "cell_type": "code",
   "execution_count": 23,
   "metadata": {},
   "outputs": [],
   "source": [
    "metrics = {}\n",
    "attributes = [\"accuracy\", \"precision(macro)\", \"precision(micro)\", \"recall(macro)\", \"recall(micro)\", \"f1_score(macro)\", \"f1_score(micro)\"]"
   ]
  },
  {
   "cell_type": "code",
   "execution_count": 24,
   "metadata": {},
   "outputs": [],
   "source": [
    "def assess_model_performance(classifier_model, test_x, test_y, name):\n",
    "    true_y = test_y\n",
    "    pred_y = classifier_model.predict(test_x)\n",
    "    #Compute metrics\n",
    "    accuracy = \"%0.2f\" % (classifier_model.score(test_x, true_y)*100) + \"%\"\n",
    "    precision_macro = \"%0.3f\" % (precision_score(true_y, pred_y, average='macro'))\n",
    "    precision_micro = \"%0.3f\" % (precision_score(true_y, pred_y, average='micro'))\n",
    "    recall_macro = \"%0.3f\" %(recall_score(true_y, pred_y, average='macro'))\n",
    "    recall_micro = \"%0.3f\" %(recall_score(true_y, pred_y, average='micro'))\n",
    "    f1_macro = \"%0.3f\" %(f1_score(true_y, pred_y, average='macro'))\n",
    "    f1_micro = \"%0.3f\" %(f1_score(true_y, pred_y, average='micro'))\n",
    "    print(\"Accuracy: \" + accuracy)\n",
    "    print(\"Precision (macro): \" + precision_macro)\n",
    "    print(\"Precision (micro): \" + precision_micro)\n",
    "    print(\"Recall (macro): \" + recall_macro)\n",
    "    print(\"Recall (micro): \" + recall_micro)\n",
    "    print(\"F1Score (macro): \" + f1_macro)\n",
    "    print(\"F1Score (micro): \" + f1_micro)\n",
    "    \n",
    "    #Add metrics to comparison data\n",
    "    metrics[name] = pd.Series([accuracy, precision_macro, precision_micro, recall_macro, recall_micro, f1_macro, f1_micro], index=attributes)\n",
    "    \n",
    "    #Confusion matrix plot\n",
    "    plot_confusion_matrix(classifier_model, test_x, true_y, display_labels=['RELIABLE', 'FAKE'], values_format=\"d\")\n",
    "    disp = plot_precision_recall_curve(classifier_model, test_x, true_y)\n",
    "    disp.ax_.set_title('Precision-Recall curve')"
   ]
  },
  {
   "cell_type": "code",
   "execution_count": null,
   "metadata": {},
   "outputs": [],
   "source": []
  },
  {
   "cell_type": "code",
   "execution_count": 25,
   "metadata": {},
   "outputs": [
    {
     "name": "stdout",
     "output_type": "stream",
     "text": [
      "Linear SVC...\n"
     ]
    }
   ],
   "source": [
    "#SVM (Linear SVC)\n",
    "\n",
    "print(\"Linear SVC...\")"
   ]
  },
  {
   "cell_type": "code",
   "execution_count": 26,
   "metadata": {},
   "outputs": [
    {
     "name": "stdout",
     "output_type": "stream",
     "text": [
      "\n",
      "With linear kernel, standard regularization (inversely proportional to C) set to 1.0, using unigram and bigram tf-idf:\n",
      "Accuracy: 96.02%\n",
      "Precision (macro): 0.961\n",
      "Precision (micro): 0.960\n",
      "Recall (macro): 0.960\n",
      "Recall (micro): 0.960\n",
      "F1Score (macro): 0.960\n",
      "F1Score (micro): 0.960\n"
     ]
    },
    {
     "data": {
      "image/png": "[encoded data removed]",
      "text/plain": [
       "<Figure size 432x288 with 2 Axes>"
      ]
     },
     "metadata": {
      "needs_background": "light"
     },
     "output_type": "display_data"
    },
    {
     "data": {
      "image/png": "[encoded data removed]",
      "text/plain": [
       "<Figure size 432x288 with 1 Axes>"
      ]
     },
     "metadata": {
      "needs_background": "light"
     },
     "output_type": "display_data"
    }
   ],
   "source": [
    "print(\"\\nWith linear kernel, standard regularization (inversely proportional to C) set to 1.0, using unigram and bigram tf-idf:\")\n",
    "\n",
    "linear_svc_c1_bigram_tfidf = LinearSVC(C=1.0, max_iter=1000)\n",
    "linear_svc_c1_bigram_tfidf.fit(train_x_bigram_tfidf, train_y_bigram_tfidf)\n",
    "assess_model_performance(linear_svc_c1_bigram_tfidf, test_x_bigram_tfidf, test_y_bigram_tfidf, \"Linear SVC (TFIDF/Uni-bigram)\")"
   ]
  },
  {
   "cell_type": "code",
   "execution_count": null,
   "metadata": {},
   "outputs": [],
   "source": []
  },
  {
   "cell_type": "code",
   "execution_count": 27,
   "metadata": {},
   "outputs": [
    {
     "name": "stdout",
     "output_type": "stream",
     "text": [
      "0.9588461538461538\n"
     ]
    }
   ],
   "source": [
    "#Pick final model (svc unigram tfidf classifier) based on performance assessment, create pipeline and export trained model\n",
    "\n",
    "tfidf_unigram_vectorizer = TfidfVectorizer(analyzer='word', ngram_range=(1,1))\n",
    "pass_agg_unigram_tfidf_classifier = PassiveAggressiveClassifier()\n",
    "svc_unigram_tfidf_classifier = LinearSVC(C=1.0, max_iter=1000)\n",
    "pipeline = Pipeline([('vectorizer', tfidf_unigram_vectorizer), ('classifier', pass_agg_unigram_tfidf_classifier)])\n",
    "X_train, X_test, Y_train, Y_test = train_test_split(df_x, df_y, random_state=0)\n",
    "pipeline.fit(X_train, Y_train)\n",
    "print(pipeline.score(X_test, Y_test))"
   ]
  },
  {
   "cell_type": "code",
   "execution_count": 46,
   "metadata": {},
   "outputs": [
    {
     "data": {
      "text/plain": [
       "['final_trained_model.sav']"
      ]
     },
     "execution_count": 46,
     "metadata": {},
     "output_type": "execute_result"
    }
   ],
   "source": [
    "joblib.dump(pipeline, 'final_trained_model.sav')"
   ]
  },
  {
   "cell_type": "code",
   "execution_count": 29,
   "metadata": {},
   "outputs": [],
   "source": [
    "#Load saved model\n",
    "classifier = joblib.load('final_trained_model.sav')"
   ]
  },
  {
   "cell_type": "code",
   "execution_count": 30,
   "metadata": {},
   "outputs": [],
   "source": [
    "prediction_mapper = {0:\"RELIABLE\", 1:\"FAKE\"}"
   ]
  },
  {
   "cell_type": "code",
   "execution_count": 31,
   "metadata": {},
   "outputs": [
    {
     "name": "stdout",
     "output_type": "stream",
     "text": [
      "Input:  keiser report meme war e99542 min view comment like first time history weäôre filming panoramic video station mean youäôll everything eye thatäôs youäôll able feel like real cosmonaut borisenko video presented collaboration russian space agency roscosmos rocket space corporation energia project website space360rtcom subscribe like leave reply login social email address published name\n",
      "Prediction: FAKE\n"
     ]
    }
   ],
   "source": [
    "#Sample test\n",
    "\n",
    "title = \"Keiser Report: Meme Wars (E995)\"\n",
    "text = \"42 mins ago 1 Views 0 Comments 0 Likes 'For the first time in history, we‚Äôre filming a panoramic video from the station. It means you‚Äôll see everything we see here, with your own eyes. That‚Äôs to say, you‚Äôll be able to feel like real cosmonauts' - Borisenko to RT. Video presented by RT in collaboration with the Russian space agency Roscosmos and the rocket and space corporation Energia More on our project website: space360.rt.com   Subscribe   Like     Leave a Reply Login with your Social ID Your email address will not be published. Name\";\n",
    "article = preprocessArticle(str(title) + str(text))\n",
    "print(\"Input: \" + article)\n",
    "predict = classifier.predict(pd.Series(article))\n",
    "for prediction in predict:\n",
    "    print(\"Prediction: \" + prediction_mapper.get(prediction))"
   ]
  },
  {
   "cell_type": "code",
   "execution_count": 32,
   "metadata": {},
   "outputs": [
    {
     "name": "stdout",
     "output_type": "stream",
     "text": [
      "Input:  taiwan semiconductor industry year growth ahead worry oversupply despite massive capital investment programme competitor next decade senior government minister said friday\n",
      "Prediction: RELIABLE\n"
     ]
    }
   ],
   "source": [
    "article = preprocessArticle(str(\"Taiwan's key semiconductor industry has years of growth ahead of it with no worries about oversupply despite a massive capital investment programme and only a few competitors in the next decade or so, a senior government minister said on Friday.\"))\n",
    "print(\"Input: \" + article)\n",
    "predict = classifier.predict(pd.Series(article))\n",
    "for prediction in predict:\n",
    "    print(\"Prediction: \" + prediction_mapper.get(prediction))                           "
   ]
  },
  {
   "cell_type": "code",
   "execution_count": 44,
   "metadata": {},
   "outputs": [
    {
     "name": "stdout",
     "output_type": "stream",
     "text": [
      "Input: Taiwan's key semiconductor industry has years of growth ahead of it with no worries about oversupply despite a massive capital investment programme and only a few competitors in the next decade or so, a senior government minister said on Friday.\n",
      "Prediction: FAKE\n"
     ]
    }
   ],
   "source": [
    "article = str(\"Taiwan's key semiconductor industry has years of growth ahead of it with no worries about oversupply despite a massive capital investment programme and only a few competitors in the next decade or so, a senior government minister said on Friday.\")\n",
    "print(\"Input: \" + article)\n",
    "predict = classifier.predict(pd.Series(article))\n",
    "for prediction in predict:\n",
    "    print(\"Prediction: \" + prediction_mapper.get(prediction))"
   ]
  },
  {
   "cell_type": "code",
   "execution_count": 35,
   "metadata": {},
   "outputs": [
    {
     "data": {
      "text/html": [
       "<div>\n",
       "<style scoped>\n",
       "    .dataframe tbody tr th:only-of-type {\n",
       "        vertical-align: middle;\n",
       "    }\n",
       "\n",
       "    .dataframe tbody tr th {\n",
       "        vertical-align: top;\n",
       "    }\n",
       "\n",
       "    .dataframe thead th {\n",
       "        text-align: right;\n",
       "    }\n",
       "</style>\n",
       "<table border=\"1\" class=\"dataframe\">\n",
       "  <thead>\n",
       "    <tr style=\"text-align: right;\">\n",
       "      <th></th>\n",
       "      <th>id</th>\n",
       "      <th>title</th>\n",
       "      <th>author</th>\n",
       "      <th>text</th>\n",
       "    </tr>\n",
       "  </thead>\n",
       "  <tbody>\n",
       "    <tr>\n",
       "      <th>0</th>\n",
       "      <td>20800</td>\n",
       "      <td>Specter of Trump Loosens Tongues, if Not Purse...</td>\n",
       "      <td>David Streitfeld</td>\n",
       "      <td>PALO ALTO, Calif.  —   After years of scorning...</td>\n",
       "    </tr>\n",
       "    <tr>\n",
       "      <th>1</th>\n",
       "      <td>20801</td>\n",
       "      <td>Russian warships ready to strike terrorists ne...</td>\n",
       "      <td>NaN</td>\n",
       "      <td>Russian warships ready to strike terrorists ne...</td>\n",
       "    </tr>\n",
       "    <tr>\n",
       "      <th>2</th>\n",
       "      <td>20802</td>\n",
       "      <td>#NoDAPL: Native American Leaders Vow to Stay A...</td>\n",
       "      <td>Common Dreams</td>\n",
       "      <td>Videos #NoDAPL: Native American Leaders Vow to...</td>\n",
       "    </tr>\n",
       "    <tr>\n",
       "      <th>3</th>\n",
       "      <td>20803</td>\n",
       "      <td>Tim Tebow Will Attempt Another Comeback, This ...</td>\n",
       "      <td>Daniel Victor</td>\n",
       "      <td>If at first you don’t succeed, try a different...</td>\n",
       "    </tr>\n",
       "    <tr>\n",
       "      <th>4</th>\n",
       "      <td>20804</td>\n",
       "      <td>Keiser Report: Meme Wars (E995)</td>\n",
       "      <td>Truth Broadcast Network</td>\n",
       "      <td>42 mins ago 1 Views 0 Comments 0 Likes 'For th...</td>\n",
       "    </tr>\n",
       "    <tr>\n",
       "      <th>5</th>\n",
       "      <td>20805</td>\n",
       "      <td>Trump is USA's antique hero. Clinton will be n...</td>\n",
       "      <td>NaN</td>\n",
       "      <td>Trump is USA's antique hero. Clinton will be n...</td>\n",
       "    </tr>\n",
       "  </tbody>\n",
       "</table>\n",
       "</div>"
      ],
      "text/plain": [
       "      id                                              title  \\\n",
       "0  20800  Specter of Trump Loosens Tongues, if Not Purse...   \n",
       "1  20801  Russian warships ready to strike terrorists ne...   \n",
       "2  20802  #NoDAPL: Native American Leaders Vow to Stay A...   \n",
       "3  20803  Tim Tebow Will Attempt Another Comeback, This ...   \n",
       "4  20804                    Keiser Report: Meme Wars (E995)   \n",
       "5  20805  Trump is USA's antique hero. Clinton will be n...   \n",
       "\n",
       "                    author                                               text  \n",
       "0         David Streitfeld  PALO ALTO, Calif.  —   After years of scorning...  \n",
       "1                      NaN  Russian warships ready to strike terrorists ne...  \n",
       "2            Common Dreams  Videos #NoDAPL: Native American Leaders Vow to...  \n",
       "3            Daniel Victor  If at first you don’t succeed, try a different...  \n",
       "4  Truth Broadcast Network  42 mins ago 1 Views 0 Comments 0 Likes 'For th...  \n",
       "5                      NaN  Trump is USA's antique hero. Clinton will be n...  "
      ]
     },
     "execution_count": 35,
     "metadata": {},
     "output_type": "execute_result"
    }
   ],
   "source": [
    "#Read test data (for Kaggle submission)\n",
    "\n",
    "zf1 = zipfile.ZipFile('test.csv.zip')\n",
    "df_test = pd.read_csv(zf1.open('test.csv'))\n",
    "df_test.head(6)"
   ]
  },
  {
   "cell_type": "code",
   "execution_count": 36,
   "metadata": {},
   "outputs": [
    {
     "data": {
      "text/html": [
       "<div>\n",
       "<style scoped>\n",
       "    .dataframe tbody tr th:only-of-type {\n",
       "        vertical-align: middle;\n",
       "    }\n",
       "\n",
       "    .dataframe tbody tr th {\n",
       "        vertical-align: top;\n",
       "    }\n",
       "\n",
       "    .dataframe thead th {\n",
       "        text-align: right;\n",
       "    }\n",
       "</style>\n",
       "<table border=\"1\" class=\"dataframe\">\n",
       "  <thead>\n",
       "    <tr style=\"text-align: right;\">\n",
       "      <th></th>\n",
       "      <th>id</th>\n",
       "      <th>title</th>\n",
       "      <th>author</th>\n",
       "      <th>text</th>\n",
       "      <th>cleaned_article</th>\n",
       "    </tr>\n",
       "  </thead>\n",
       "  <tbody>\n",
       "    <tr>\n",
       "      <th>0</th>\n",
       "      <td>20800</td>\n",
       "      <td>Specter of Trump Loosens Tongues, if Not Purse...</td>\n",
       "      <td>David Streitfeld</td>\n",
       "      <td>PALO ALTO, Calif.  —   After years of scorning...</td>\n",
       "      <td>specter trump loosens tongue purse string sil...</td>\n",
       "    </tr>\n",
       "    <tr>\n",
       "      <th>1</th>\n",
       "      <td>20801</td>\n",
       "      <td>Russian warships ready to strike terrorists ne...</td>\n",
       "      <td>NaN</td>\n",
       "      <td>Russian warships ready to strike terrorists ne...</td>\n",
       "      <td>russian warship ready strike terrorist near a...</td>\n",
       "    </tr>\n",
       "    <tr>\n",
       "      <th>2</th>\n",
       "      <td>20802</td>\n",
       "      <td>#NoDAPL: Native American Leaders Vow to Stay A...</td>\n",
       "      <td>Common Dreams</td>\n",
       "      <td>Videos #NoDAPL: Native American Leaders Vow to...</td>\n",
       "      <td>nodapl native american leader stay winter fil...</td>\n",
       "    </tr>\n",
       "    <tr>\n",
       "      <th>3</th>\n",
       "      <td>20803</td>\n",
       "      <td>Tim Tebow Will Attempt Another Comeback, This ...</td>\n",
       "      <td>Daniel Victor</td>\n",
       "      <td>If at first you don’t succeed, try a different...</td>\n",
       "      <td>tebow attempt another comeback time baseball ...</td>\n",
       "    </tr>\n",
       "    <tr>\n",
       "      <th>4</th>\n",
       "      <td>20804</td>\n",
       "      <td>Keiser Report: Meme Wars (E995)</td>\n",
       "      <td>Truth Broadcast Network</td>\n",
       "      <td>42 mins ago 1 Views 0 Comments 0 Likes 'For th...</td>\n",
       "      <td>keiser report meme war e99542 min view commen...</td>\n",
       "    </tr>\n",
       "    <tr>\n",
       "      <th>5</th>\n",
       "      <td>20805</td>\n",
       "      <td>Trump is USA's antique hero. Clinton will be n...</td>\n",
       "      <td>NaN</td>\n",
       "      <td>Trump is USA's antique hero. Clinton will be n...</td>\n",
       "      <td>trump usa antique hero clinton next president...</td>\n",
       "    </tr>\n",
       "  </tbody>\n",
       "</table>\n",
       "</div>"
      ],
      "text/plain": [
       "      id                                              title  \\\n",
       "0  20800  Specter of Trump Loosens Tongues, if Not Purse...   \n",
       "1  20801  Russian warships ready to strike terrorists ne...   \n",
       "2  20802  #NoDAPL: Native American Leaders Vow to Stay A...   \n",
       "3  20803  Tim Tebow Will Attempt Another Comeback, This ...   \n",
       "4  20804                    Keiser Report: Meme Wars (E995)   \n",
       "5  20805  Trump is USA's antique hero. Clinton will be n...   \n",
       "\n",
       "                    author                                               text  \\\n",
       "0         David Streitfeld  PALO ALTO, Calif.  —   After years of scorning...   \n",
       "1                      NaN  Russian warships ready to strike terrorists ne...   \n",
       "2            Common Dreams  Videos #NoDAPL: Native American Leaders Vow to...   \n",
       "3            Daniel Victor  If at first you don’t succeed, try a different...   \n",
       "4  Truth Broadcast Network  42 mins ago 1 Views 0 Comments 0 Likes 'For th...   \n",
       "5                      NaN  Trump is USA's antique hero. Clinton will be n...   \n",
       "\n",
       "                                     cleaned_article  \n",
       "0   specter trump loosens tongue purse string sil...  \n",
       "1   russian warship ready strike terrorist near a...  \n",
       "2   nodapl native american leader stay winter fil...  \n",
       "3   tebow attempt another comeback time baseball ...  \n",
       "4   keiser report meme war e99542 min view commen...  \n",
       "5   trump usa antique hero clinton next president...  "
      ]
     },
     "execution_count": 36,
     "metadata": {},
     "output_type": "execute_result"
    }
   ],
   "source": [
    "#Preprocess test data\n",
    "\n",
    "for index, row in df_test.iterrows():\n",
    "    cleaned_sentence = preprocessArticle(str(row['title']) + str(row['text']))\n",
    "    df_test.loc[index, 'cleaned_article'] = cleaned_sentence\n",
    "\n",
    "df_test.head(6)"
   ]
  },
  {
   "cell_type": "code",
   "execution_count": 37,
   "metadata": {},
   "outputs": [
    {
     "name": "stdout",
     "output_type": "stream",
     "text": [
      "['RELIABLE', 'FAKE', 'FAKE', 'RELIABLE', 'FAKE', 'FAKE', 'RELIABLE', 'FAKE', 'FAKE', 'FAKE']\n"
     ]
    }
   ],
   "source": [
    "#Get predictions on articles in test file\n",
    "\n",
    "predict = classifier.predict(df_test['cleaned_article'])\n",
    "results = []\n",
    "for prediction in predict:\n",
    "    results.append(prediction_mapper.get(prediction))\n",
    "print(results[:10])"
   ]
  },
  {
   "cell_type": "code",
   "execution_count": 38,
   "metadata": {},
   "outputs": [
    {
     "name": "stdout",
     "output_type": "stream",
     "text": [
      "0       20800\n",
      "1       20801\n",
      "2       20802\n",
      "3       20803\n",
      "4       20804\n",
      "        ...  \n",
      "5195    25995\n",
      "5196    25996\n",
      "5197    25997\n",
      "5198    25998\n",
      "5199    25999\n",
      "Name: id, Length: 5200, dtype: int64\n"
     ]
    }
   ],
   "source": [
    "test_id=df_test[\"id\"]\n",
    "print(test_id)"
   ]
  },
  {
   "cell_type": "code",
   "execution_count": 39,
   "metadata": {},
   "outputs": [
    {
     "data": {
      "text/html": [
       "<div>\n",
       "<style scoped>\n",
       "    .dataframe tbody tr th:only-of-type {\n",
       "        vertical-align: middle;\n",
       "    }\n",
       "\n",
       "    .dataframe tbody tr th {\n",
       "        vertical-align: top;\n",
       "    }\n",
       "\n",
       "    .dataframe thead th {\n",
       "        text-align: right;\n",
       "    }\n",
       "</style>\n",
       "<table border=\"1\" class=\"dataframe\">\n",
       "  <thead>\n",
       "    <tr style=\"text-align: right;\">\n",
       "      <th></th>\n",
       "      <th>id</th>\n",
       "      <th>label</th>\n",
       "    </tr>\n",
       "  </thead>\n",
       "  <tbody>\n",
       "    <tr>\n",
       "      <th>0</th>\n",
       "      <td>20800</td>\n",
       "      <td>0</td>\n",
       "    </tr>\n",
       "    <tr>\n",
       "      <th>1</th>\n",
       "      <td>20801</td>\n",
       "      <td>1</td>\n",
       "    </tr>\n",
       "    <tr>\n",
       "      <th>2</th>\n",
       "      <td>20802</td>\n",
       "      <td>1</td>\n",
       "    </tr>\n",
       "    <tr>\n",
       "      <th>3</th>\n",
       "      <td>20803</td>\n",
       "      <td>0</td>\n",
       "    </tr>\n",
       "    <tr>\n",
       "      <th>4</th>\n",
       "      <td>20804</td>\n",
       "      <td>1</td>\n",
       "    </tr>\n",
       "  </tbody>\n",
       "</table>\n",
       "</div>"
      ],
      "text/plain": [
       "      id  label\n",
       "0  20800      0\n",
       "1  20801      1\n",
       "2  20802      1\n",
       "3  20803      0\n",
       "4  20804      1"
      ]
     },
     "execution_count": 39,
     "metadata": {},
     "output_type": "execute_result"
    }
   ],
   "source": [
    "#Create final submission dataframe\n",
    "\n",
    "submit_df = pd.DataFrame({\"id\":test_id,\n",
    "                         \"label\":predict})\n",
    "submit_df.head()"
   ]
  },
  {
   "cell_type": "code",
   "execution_count": 40,
   "metadata": {},
   "outputs": [],
   "source": [
    "submit_df.to_csv(\"submit_ans.csv\", index=False)"
   ]
  },
  {
   "cell_type": "code",
   "execution_count": 41,
   "metadata": {},
   "outputs": [
    {
     "data": {
      "text/html": [
       "<div>\n",
       "<style scoped>\n",
       "    .dataframe tbody tr th:only-of-type {\n",
       "        vertical-align: middle;\n",
       "    }\n",
       "\n",
       "    .dataframe tbody tr th {\n",
       "        vertical-align: top;\n",
       "    }\n",
       "\n",
       "    .dataframe thead th {\n",
       "        text-align: right;\n",
       "    }\n",
       "</style>\n",
       "<table border=\"1\" class=\"dataframe\">\n",
       "  <thead>\n",
       "    <tr style=\"text-align: right;\">\n",
       "      <th></th>\n",
       "      <th>accuracy</th>\n",
       "      <th>precision(macro)</th>\n",
       "      <th>precision(micro)</th>\n",
       "      <th>recall(macro)</th>\n",
       "      <th>recall(micro)</th>\n",
       "      <th>f1_score(macro)</th>\n",
       "      <th>f1_score(micro)</th>\n",
       "    </tr>\n",
       "  </thead>\n",
       "  <tbody>\n",
       "    <tr>\n",
       "      <th>Linear SVC (TFIDF/Uni-bigram)</th>\n",
       "      <td>96.02%</td>\n",
       "      <td>0.961</td>\n",
       "      <td>0.960</td>\n",
       "      <td>0.960</td>\n",
       "      <td>0.960</td>\n",
       "      <td>0.960</td>\n",
       "      <td>0.960</td>\n",
       "    </tr>\n",
       "  </tbody>\n",
       "</table>\n",
       "</div>"
      ],
      "text/plain": [
       "                              accuracy precision(macro) precision(micro)  \\\n",
       "Linear SVC (TFIDF/Uni-bigram)   96.02%            0.961            0.960   \n",
       "\n",
       "                              recall(macro) recall(micro) f1_score(macro)  \\\n",
       "Linear SVC (TFIDF/Uni-bigram)         0.960         0.960           0.960   \n",
       "\n",
       "                              f1_score(micro)  \n",
       "Linear SVC (TFIDF/Uni-bigram)           0.960  "
      ]
     },
     "execution_count": 41,
     "metadata": {},
     "output_type": "execute_result"
    }
   ],
   "source": [
    "df_metrics = pd.DataFrame(metrics)\n",
    "df_metrics.transpose()"
   ]
  },
  {
   "cell_type": "code",
   "execution_count": 42,
   "metadata": {},
   "outputs": [],
   "source": [
    "df_metrics.transpose().to_csv(\"performance_metrics.csv\", index=True)"
   ]
  },
  {
   "cell_type": "code",
   "execution_count": 48,
   "metadata": {},
   "outputs": [
    {
     "data": {
      "text/plain": [
       "['preprocess.sav']"
      ]
     },
     "execution_count": 48,
     "metadata": {},
     "output_type": "execute_result"
    }
   ],
   "source": [
    "sc = preprocessArticle(article)\n",
    "joblib.dump(sc, 'preprocess.sav')"
   ]
  },
  {
   "cell_type": "code",
   "execution_count": 49,
   "metadata": {},
   "outputs": [],
   "source": [
    "sc = joblib.load('final_trained_model.sav')"
   ]
  },
  {
   "cell_type": "code",
   "execution_count": null,
   "metadata": {},
   "outputs": [],
   "source": []
  },
  {
   "cell_type": "code",
   "execution_count": null,
   "metadata": {},
   "outputs": [],
   "source": []
  },
  {
   "cell_type": "code",
   "execution_count": null,
   "metadata": {},
   "outputs": [],
   "source": []
  },
  {
   "cell_type": "code",
   "execution_count": null,
   "metadata": {},
   "outputs": [],
   "source": []
  },
  {
   "cell_type": "code",
   "execution_count": 4,
   "metadata": {},
   "outputs": [
    {
     "name": "stdout",
     "output_type": "stream",
     "text": [
      "Processing c:\\users\\shreya\\appdata\\local\\pip\\cache\\wheels\\d0\\70\\0b\\673e09a7ed429660d22352a1b117b4f616a8fc054bdd7eb157\\pickle_mixin-1.0.2-py3-none-any.whl\n",
      "Installing collected packages: pickle-mixin\n",
      "Successfully installed pickle-mixin-1.0.2\n",
      "Note: you may need to restart the kernel to use updated packages.\n"
     ]
    }
   ],
   "source": [
    "pip install pickle-mixin"
   ]
  },
  {
   "cell_type": "code",
   "execution_count": 2,
   "metadata": {},
   "outputs": [],
   "source": [
    "import pickle"
   ]
  },
  {
   "cell_type": "code",
   "execution_count": 6,
   "metadata": {},
   "outputs": [
    {
     "ename": "UnicodeDecodeError",
     "evalue": "'charmap' codec can't decode byte 0x81 in position 32: character maps to <undefined>",
     "output_type": "error",
     "traceback": [
      "\u001b[1;31m---------------------------------------------------------------------------\u001b[0m",
      "\u001b[1;31mUnicodeDecodeError\u001b[0m                        Traceback (most recent call last)",
      "\u001b[1;32m<ipython-input-6-a2302a24d340>\u001b[0m in \u001b[0;36m<module>\u001b[1;34m\u001b[0m\n\u001b[1;32m----> 1\u001b[1;33m \u001b[0mclassifier1\u001b[0m \u001b[1;33m=\u001b[0m \u001b[0mpickle\u001b[0m\u001b[1;33m.\u001b[0m\u001b[0mload\u001b[0m\u001b[1;33m(\u001b[0m\u001b[0mopen\u001b[0m\u001b[1;33m(\u001b[0m\u001b[1;34m\"final_trained_model.sav\"\u001b[0m\u001b[1;33m)\u001b[0m\u001b[1;33m)\u001b[0m\u001b[1;33m\u001b[0m\u001b[1;33m\u001b[0m\u001b[0m\n\u001b[0m",
      "\u001b[1;32mD:\\Shreya\\Anaconda\\lib\\encodings\\cp1252.py\u001b[0m in \u001b[0;36mdecode\u001b[1;34m(self, input, final)\u001b[0m\n\u001b[0;32m     21\u001b[0m \u001b[1;32mclass\u001b[0m \u001b[0mIncrementalDecoder\u001b[0m\u001b[1;33m(\u001b[0m\u001b[0mcodecs\u001b[0m\u001b[1;33m.\u001b[0m\u001b[0mIncrementalDecoder\u001b[0m\u001b[1;33m)\u001b[0m\u001b[1;33m:\u001b[0m\u001b[1;33m\u001b[0m\u001b[1;33m\u001b[0m\u001b[0m\n\u001b[0;32m     22\u001b[0m     \u001b[1;32mdef\u001b[0m \u001b[0mdecode\u001b[0m\u001b[1;33m(\u001b[0m\u001b[0mself\u001b[0m\u001b[1;33m,\u001b[0m \u001b[0minput\u001b[0m\u001b[1;33m,\u001b[0m \u001b[0mfinal\u001b[0m\u001b[1;33m=\u001b[0m\u001b[1;32mFalse\u001b[0m\u001b[1;33m)\u001b[0m\u001b[1;33m:\u001b[0m\u001b[1;33m\u001b[0m\u001b[1;33m\u001b[0m\u001b[0m\n\u001b[1;32m---> 23\u001b[1;33m         \u001b[1;32mreturn\u001b[0m \u001b[0mcodecs\u001b[0m\u001b[1;33m.\u001b[0m\u001b[0mcharmap_decode\u001b[0m\u001b[1;33m(\u001b[0m\u001b[0minput\u001b[0m\u001b[1;33m,\u001b[0m\u001b[0mself\u001b[0m\u001b[1;33m.\u001b[0m\u001b[0merrors\u001b[0m\u001b[1;33m,\u001b[0m\u001b[0mdecoding_table\u001b[0m\u001b[1;33m)\u001b[0m\u001b[1;33m[\u001b[0m\u001b[1;36m0\u001b[0m\u001b[1;33m]\u001b[0m\u001b[1;33m\u001b[0m\u001b[1;33m\u001b[0m\u001b[0m\n\u001b[0m\u001b[0;32m     24\u001b[0m \u001b[1;33m\u001b[0m\u001b[0m\n\u001b[0;32m     25\u001b[0m \u001b[1;32mclass\u001b[0m \u001b[0mStreamWriter\u001b[0m\u001b[1;33m(\u001b[0m\u001b[0mCodec\u001b[0m\u001b[1;33m,\u001b[0m\u001b[0mcodecs\u001b[0m\u001b[1;33m.\u001b[0m\u001b[0mStreamWriter\u001b[0m\u001b[1;33m)\u001b[0m\u001b[1;33m:\u001b[0m\u001b[1;33m\u001b[0m\u001b[1;33m\u001b[0m\u001b[0m\n",
      "\u001b[1;31mUnicodeDecodeError\u001b[0m: 'charmap' codec can't decode byte 0x81 in position 32: character maps to <undefined>"
     ]
    }
   ],
   "source": [
    "classifier1 = pickle.load(open(\"final_trained_model.sav\"))"
   ]
  },
  {
   "cell_type": "code",
   "execution_count": 55,
   "metadata": {},
   "outputs": [
    {
     "name": "stdout",
     "output_type": "stream",
     "text": [
      "Input: Taiwan's key semiconductor industry has years of growth ahead of it with no worries about oversupply despite a massive capital investment programme and only a few competitors in the next decade or so, a senior government minister said on Friday.\n",
      " taiwan semiconductor industry year growth ahead worry oversupply despite massive capital investment programme competitor next decade senior government minister said friday\n"
     ]
    },
    {
     "ename": "AttributeError",
     "evalue": "'PassiveAggressiveClassifier' object has no attribute 'transform'",
     "output_type": "error",
     "traceback": [
      "\u001b[1;31m---------------------------------------------------------------------------\u001b[0m",
      "\u001b[1;31mAttributeError\u001b[0m                            Traceback (most recent call last)",
      "\u001b[1;32m<ipython-input-55-c9afbc45b308>\u001b[0m in \u001b[0;36m<module>\u001b[1;34m\u001b[0m\n\u001b[0;32m      2\u001b[0m \u001b[0mprint\u001b[0m\u001b[1;33m(\u001b[0m\u001b[1;34m\"Input: \"\u001b[0m \u001b[1;33m+\u001b[0m \u001b[0marticle\u001b[0m\u001b[1;33m)\u001b[0m\u001b[1;33m\u001b[0m\u001b[1;33m\u001b[0m\u001b[0m\n\u001b[0;32m      3\u001b[0m \u001b[0mprint\u001b[0m\u001b[1;33m(\u001b[0m\u001b[0mpreprocessArticle\u001b[0m\u001b[1;33m(\u001b[0m\u001b[0marticle\u001b[0m\u001b[1;33m)\u001b[0m\u001b[1;33m)\u001b[0m\u001b[1;33m\u001b[0m\u001b[1;33m\u001b[0m\u001b[0m\n\u001b[1;32m----> 4\u001b[1;33m \u001b[0mpredict\u001b[0m \u001b[1;33m=\u001b[0m \u001b[0mclassifier\u001b[0m\u001b[1;33m.\u001b[0m\u001b[0mpredict\u001b[0m\u001b[1;33m(\u001b[0m\u001b[0mpd\u001b[0m\u001b[1;33m.\u001b[0m\u001b[0mSeries\u001b[0m\u001b[1;33m(\u001b[0m\u001b[0msc\u001b[0m\u001b[1;33m.\u001b[0m\u001b[0mtransform\u001b[0m\u001b[1;33m(\u001b[0m\u001b[0marticle\u001b[0m\u001b[1;33m)\u001b[0m\u001b[1;33m)\u001b[0m\u001b[1;33m)\u001b[0m\u001b[1;33m\u001b[0m\u001b[1;33m\u001b[0m\u001b[0m\n\u001b[0m\u001b[0;32m      5\u001b[0m \u001b[1;32mfor\u001b[0m \u001b[0mprediction\u001b[0m \u001b[1;32min\u001b[0m \u001b[0mpredict\u001b[0m\u001b[1;33m:\u001b[0m\u001b[1;33m\u001b[0m\u001b[1;33m\u001b[0m\u001b[0m\n\u001b[0;32m      6\u001b[0m     \u001b[0mprint\u001b[0m\u001b[1;33m(\u001b[0m\u001b[1;34m\"Prediction: \"\u001b[0m \u001b[1;33m+\u001b[0m \u001b[0mprediction_mapper\u001b[0m\u001b[1;33m.\u001b[0m\u001b[0mget\u001b[0m\u001b[1;33m(\u001b[0m\u001b[0mprediction\u001b[0m\u001b[1;33m)\u001b[0m\u001b[1;33m)\u001b[0m\u001b[1;33m\u001b[0m\u001b[1;33m\u001b[0m\u001b[0m\n",
      "\u001b[1;32mD:\\Shreya\\Anaconda\\lib\\site-packages\\sklearn\\pipeline.py\u001b[0m in \u001b[0;36mtransform\u001b[1;34m(self)\u001b[0m\n\u001b[0;32m    552\u001b[0m         \u001b[1;31m# XXX: Handling the None case means we can't use if_delegate_has_method\u001b[0m\u001b[1;33m\u001b[0m\u001b[1;33m\u001b[0m\u001b[1;33m\u001b[0m\u001b[0m\n\u001b[0;32m    553\u001b[0m         \u001b[1;32mif\u001b[0m \u001b[0mself\u001b[0m\u001b[1;33m.\u001b[0m\u001b[0m_final_estimator\u001b[0m \u001b[1;33m!=\u001b[0m \u001b[1;34m'passthrough'\u001b[0m\u001b[1;33m:\u001b[0m\u001b[1;33m\u001b[0m\u001b[1;33m\u001b[0m\u001b[0m\n\u001b[1;32m--> 554\u001b[1;33m             \u001b[0mself\u001b[0m\u001b[1;33m.\u001b[0m\u001b[0m_final_estimator\u001b[0m\u001b[1;33m.\u001b[0m\u001b[0mtransform\u001b[0m\u001b[1;33m\u001b[0m\u001b[1;33m\u001b[0m\u001b[0m\n\u001b[0m\u001b[0;32m    555\u001b[0m         \u001b[1;32mreturn\u001b[0m \u001b[0mself\u001b[0m\u001b[1;33m.\u001b[0m\u001b[0m_transform\u001b[0m\u001b[1;33m\u001b[0m\u001b[1;33m\u001b[0m\u001b[0m\n\u001b[0;32m    556\u001b[0m \u001b[1;33m\u001b[0m\u001b[0m\n",
      "\u001b[1;31mAttributeError\u001b[0m: 'PassiveAggressiveClassifier' object has no attribute 'transform'"
     ]
    }
   ],
   "source": [
    "article = str(\"Taiwan's key semiconductor industry has years of growth ahead of it with no worries about oversupply despite a massive capital investment programme and only a few competitors in the next decade or so, a senior government minister said on Friday.\")\n",
    "print(\"Input: \" + article)\n",
    "print(preprocessArticle(article))\n",
    "predict = classifier.predict(pd.Series(sc.transform(article)))\n",
    "for prediction in predict:\n",
    "    print(\"Prediction: \" + prediction_mapper.get(prediction))"
   ]
  },
  {
   "cell_type": "code",
   "execution_count": null,
   "metadata": {},
   "outputs": [],
   "source": []
  }
 ],
 "metadata": {
  "kernelspec": {
   "display_name": "Python 3",
   "language": "python",
   "name": "python3"
  },
  "language_info": {
   "codemirror_mode": {
    "name": "ipython",
    "version": 3
   },
   "file_extension": ".py",
   "mimetype": "text/x-python",
   "name": "python",
   "nbconvert_exporter": "python",
   "pygments_lexer": "ipython3",
   "version": "3.7.6"
  }
 },
 "nbformat": 4,
 "nbformat_minor": 4
}
